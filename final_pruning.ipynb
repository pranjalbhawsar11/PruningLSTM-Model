{
  "nbformat": 4,
  "nbformat_minor": 0,
  "metadata": {
    "colab": {
      "provenance": [],
      "include_colab_link": true
    },
    "kernelspec": {
      "name": "python3",
      "display_name": "Python 3"
    },
    "language_info": {
      "name": "python"
    }
  },
  "cells": [
    {
      "cell_type": "markdown",
      "metadata": {
        "id": "view-in-github",
        "colab_type": "text"
      },
      "source": [
        "<a href=\"https://colab.research.google.com/github/pranjalbhawsar11/PruningLSTM-Model/blob/main/final_pruning.ipynb\" target=\"_parent\"><img src=\"https://colab.research.google.com/assets/colab-badge.svg\" alt=\"Open In Colab\"/></a>"
      ]
    },
    {
      "cell_type": "code",
      "source": [
        "pip install -q tensorflow-model-optimization"
      ],
      "metadata": {
        "colab": {
          "base_uri": "https://localhost:8080/"
        },
        "id": "MyiFnoz3B8hf",
        "outputId": "8112e301-b254-4261-fdf8-01a4ca5b32ef"
      },
      "execution_count": null,
      "outputs": [
        {
          "output_type": "stream",
          "name": "stdout",
          "text": [
            "\u001b[?25l\r\u001b[K     |█▍                              | 10 kB 14.4 MB/s eta 0:00:01\r\u001b[K     |██▊                             | 20 kB 11.0 MB/s eta 0:00:01\r\u001b[K     |████▏                           | 30 kB 13.6 MB/s eta 0:00:01\r\u001b[K     |█████▌                          | 40 kB 5.3 MB/s eta 0:00:01\r\u001b[K     |██████▉                         | 51 kB 5.5 MB/s eta 0:00:01\r\u001b[K     |████████▎                       | 61 kB 6.3 MB/s eta 0:00:01\r\u001b[K     |█████████▋                      | 71 kB 5.6 MB/s eta 0:00:01\r\u001b[K     |███████████                     | 81 kB 6.2 MB/s eta 0:00:01\r\u001b[K     |████████████▍                   | 92 kB 6.6 MB/s eta 0:00:01\r\u001b[K     |█████████████▊                  | 102 kB 5.6 MB/s eta 0:00:01\r\u001b[K     |███████████████                 | 112 kB 5.6 MB/s eta 0:00:01\r\u001b[K     |████████████████▌               | 122 kB 5.6 MB/s eta 0:00:01\r\u001b[K     |█████████████████▉              | 133 kB 5.6 MB/s eta 0:00:01\r\u001b[K     |███████████████████▏            | 143 kB 5.6 MB/s eta 0:00:01\r\u001b[K     |████████████████████▋           | 153 kB 5.6 MB/s eta 0:00:01\r\u001b[K     |██████████████████████          | 163 kB 5.6 MB/s eta 0:00:01\r\u001b[K     |███████████████████████▎        | 174 kB 5.6 MB/s eta 0:00:01\r\u001b[K     |████████████████████████▊       | 184 kB 5.6 MB/s eta 0:00:01\r\u001b[K     |██████████████████████████      | 194 kB 5.6 MB/s eta 0:00:01\r\u001b[K     |███████████████████████████▍    | 204 kB 5.6 MB/s eta 0:00:01\r\u001b[K     |████████████████████████████▉   | 215 kB 5.6 MB/s eta 0:00:01\r\u001b[K     |██████████████████████████████▏ | 225 kB 5.6 MB/s eta 0:00:01\r\u001b[K     |███████████████████████████████▌| 235 kB 5.6 MB/s eta 0:00:01\r\u001b[K     |████████████████████████████████| 238 kB 5.6 MB/s \n",
            "\u001b[?25h"
          ]
        }
      ]
    },
    {
      "cell_type": "code",
      "source": [
        "import tempfile\n",
        "import zipfile\n",
        "import os\n",
        "import h5py\n",
        "import numpy as np\n",
        "import glob\n",
        "import math\n",
        "from numpy import linalg as LA\n",
        "from scipy.stats import rankdata\n",
        "from shutil import copyfile, move\n",
        "import matplotlib.pyplot as plt\n",
        "import matplotlib.patches as mpatches\n"
      ],
      "metadata": {
        "id": "h9iH6Od0Irpl"
      },
      "execution_count": null,
      "outputs": []
    },
    {
      "cell_type": "code",
      "source": [
        "import numpy as np\n",
        "import tensorflow as tf\n",
        "from tensorflow_model_optimization.python.core.sparsity.keras import prune\n",
        "from tensorflow_model_optimization.python.core.sparsity.keras import pruning_callbacks\n",
        "from tensorflow_model_optimization.python.core.sparsity.keras import pruning_schedule\n",
        "from tensorflow_model_optimization.python.core.sparsity.keras import pruning_wrapper\n",
        "\n",
        "keras = tf.keras\n",
        "K = tf.keras.backend"
      ],
      "metadata": {
        "id": "8c9KpiOCTkUK"
      },
      "execution_count": null,
      "outputs": []
    },
    {
      "cell_type": "code",
      "source": [
        "%load_ext tensorboard\n",
        "import tensorboard"
      ],
      "metadata": {
        "id": "uI_Q5c64IvMU"
      },
      "execution_count": null,
      "outputs": []
    },
    {
      "cell_type": "code",
      "source": [
        "logdir = tempfile.mkdtemp()\n",
        "print('Writing training logs to ' + logdir)\n",
        "%tensorboard --logdir={logdir}"
      ],
      "metadata": {
        "id": "KnbAq6dzI0ho"
      },
      "execution_count": null,
      "outputs": []
    },
    {
      "cell_type": "code",
      "source": [
        "callbacks = [tf.keras.callbacks.TensorBoard(log_dir=logdir, profile_batch=0)]\n",
        "max_features = 20000\n",
        "maxlen = 100  # cut texts after this number of words\n",
        "batch_size = 32\n",
        "\n",
        "print(\"Loading data...\")\n",
        "(x_train, y_train), (x_test, y_test) = keras.datasets.imdb.load_data(num_words=max_features)\n",
        "print(len(x_train), \"train sequences\")\n",
        "print(len(x_test), \"test sequences\")\n",
        "\n",
        "print(\"Pad sequences (samples x time)\")\n",
        "x_train = keras.preprocessing.sequence.pad_sequences(x_train, maxlen=maxlen)\n",
        "x_test = keras.preprocessing.sequence.pad_sequences(x_test, maxlen=maxlen)\n",
        "print(\"x_train shape:\", x_train.shape)\n",
        "print(\"x_test shape:\", x_test.shape)\n",
        "\n",
        "print(\"Build model...\")\n",
        "model = keras.models.Sequential()\n",
        "model.add(keras.layers.Embedding(max_features, 128, input_length=maxlen))\n",
        "model.add(keras.layers.LSTM(128))  \n",
        "model.add(keras.layers.Dense(1))\n",
        "model.add(keras.layers.Activation(\"sigmoid\"))\n",
        "\n",
        "model.compile(\n",
        "    loss=tf.keras.losses.binary_crossentropy,\n",
        "    optimizer='adam',\n",
        "    metrics=['accuracy'])\n",
        "\n",
        "model.fit(x_train, y_train,\n",
        "          batch_size=batch_size,\n",
        "          epochs=3,\n",
        "          verbose=1,\n",
        "          callbacks=callbacks,\n",
        "          validation_data=(x_test, y_test))\n"
      ],
      "metadata": {
        "colab": {
          "base_uri": "https://localhost:8080/"
        },
        "id": "rxuYGecsSIE8",
        "outputId": "24acd81f-12f9-4db9-fe0a-103cc9ecbbae"
      },
      "execution_count": null,
      "outputs": [
        {
          "metadata": {
            "tags": null
          },
          "name": "stdout",
          "output_type": "stream",
          "text": [
            "Loading data...\n",
            "Downloading data from https://storage.googleapis.com/tensorflow/tf-keras-datasets/imdb.npz\n",
            "17464789/17464789 [==============================] - 0s 0us/step\n",
            "25000 train sequences\n",
            "25000 test sequences\n",
            "Pad sequences (samples x time)\n",
            "x_train shape: (25000, 100)\n",
            "x_test shape: (25000, 100)\n",
            "Build model...\n",
            "Epoch 1/3\n",
            "782/782 [==============================] - 139s 176ms/step - loss: 0.4201 - accuracy: 0.8036 - val_loss: 0.3801 - val_accuracy: 0.8396\n",
            "Epoch 2/3\n",
            "782/782 [==============================] - 137s 175ms/step - loss: 0.2358 - accuracy: 0.9085 - val_loss: 0.3513 - val_accuracy: 0.8452\n",
            "Epoch 3/3\n",
            "782/782 [==============================] - 121s 155ms/step - loss: 0.1435 - accuracy: 0.9467 - val_loss: 0.4283 - val_accuracy: 0.8311\n"
          ]
        },
        {
          "data": {
            "text/plain": [
              "<keras.callbacks.History at 0x7fb6973ba810>"
            ]
          },
          "execution_count": 6,
          "metadata": {},
          "output_type": "execute_result"
        }
      ]
    },
    {
      "cell_type": "code",
      "source": [
        "score = model.evaluate(x_test, y_test)\n",
        "print('Test loss:', score[0])\n",
        "print('Test accuracy:', score[1])"
      ],
      "metadata": {
        "colab": {
          "base_uri": "https://localhost:8080/"
        },
        "id": "2ZG9mVeNW1_w",
        "outputId": "2f137b4f-542d-476e-ccc7-35c302808507"
      },
      "execution_count": null,
      "outputs": [
        {
          "output_type": "stream",
          "name": "stdout",
          "text": [
            "782/782 [==============================] - 32s 40ms/step - loss: 0.4283 - accuracy: 0.8311\n",
            "Test loss: 0.42827558517456055\n",
            "Test accuracy: 0.8311200141906738\n"
          ]
        }
      ]
    },
    {
      "cell_type": "code",
      "source": [
        "model.summary()\n"
      ],
      "metadata": {
        "colab": {
          "base_uri": "https://localhost:8080/"
        },
        "id": "mmYAhHQeSrHz",
        "outputId": "fd5bdb11-039e-4fd9-a999-2aed7ae3ea9e"
      },
      "execution_count": null,
      "outputs": [
        {
          "output_type": "stream",
          "name": "stdout",
          "text": [
            "Model: \"sequential\"\n",
            "_________________________________________________________________\n",
            " Layer (type)                Output Shape              Param #   \n",
            "=================================================================\n",
            " embedding (Embedding)       (None, 100, 128)          2560000   \n",
            "                                                                 \n",
            " lstm (LSTM)                 (None, 128)               131584    \n",
            "                                                                 \n",
            " dense (Dense)               (None, 1)                 129       \n",
            "                                                                 \n",
            " activation (Activation)     (None, 1)                 0         \n",
            "                                                                 \n",
            "=================================================================\n",
            "Total params: 2,691,713\n",
            "Trainable params: 2,691,713\n",
            "Non-trainable params: 0\n",
            "_________________________________________________________________\n"
          ]
        }
      ]
    },
    {
      "cell_type": "markdown",
      "source": [
        "# Save model"
      ],
      "metadata": {
        "id": "Wo40xUwNIydN"
      }
    },
    {
      "cell_type": "code",
      "source": [
        "#Save model\n",
        "_, model_file = tempfile.mkstemp('.h5')\n",
        "tf.keras.models.save_model(model, model_file, include_optimizer=False)"
      ],
      "metadata": {
        "id": "A7ozDMHGX956"
      },
      "execution_count": null,
      "outputs": []
    },
    {
      "cell_type": "markdown",
      "source": [
        "# Weight Pruning"
      ],
      "metadata": {
        "id": "1carQz1NI29u"
      }
    },
    {
      "cell_type": "code",
      "source": [
        "lay1=[]\n",
        "def print_attrs(name, obj):\n",
        "    # Create indent\n",
        "    shift = name.count('/') * '    '\n",
        "    item_name = name.split(\"/\")[-1]\n",
        "    print(shift + item_name)\n",
        "    try:\n",
        "        for key, val in obj.attrs.items():\n",
        "            if(key=='weight_names'):\n",
        "              lay1.append(val[0])\n",
        "              print(shift + '    ' + f\"{key}: {val}\")\n",
        "    except:\n",
        "        pass\n",
        "\n",
        "\n",
        "for k in [0.2,0.3,0.4,0.5,0.7,.80,.84,.88, .92, .94, .98, .99]:\n",
        "    copyfile(model_file,\"/tmp/orig.h5\")\n",
        "    f = h5py.File(\"/tmp/orig.h5\",'r+')\n",
        "    f.visititems(print_attrs)\n",
        "    m=0\n",
        "    for i in list(f.get('model_weights'))[:-1]:\n",
        "      if(i==\"activation\" ):\n",
        "        continue\n",
        "      elif(i==\"dense\"):\n",
        "        m=m+1\n",
        "        continue\n",
        "      else:\n",
        "        data=f['model_weights'][i][lay1[m]]\n",
        "        w=np.array(data)\n",
        "        ind = np.unravel_index(np.argsort(w, axis=None), w.shape)\n",
        "        for i in range(int(len(ind[0])*k)):\n",
        "          w[ind[0][i]][ind[1][i]]=0\n",
        "        data[...]=w\n",
        "        m=m+1\n",
        "      \n",
        "    f.close()\n",
        "    move(\"/tmp/orig.h5\",\"/tmp/weight_\"+str(k)+\".h5\")\n"
      ],
      "metadata": {
        "id": "iDiTnPKmU0cO"
      },
      "execution_count": null,
      "outputs": []
    },
    {
      "cell_type": "markdown",
      "source": [
        "# compilation using pruned **weights**"
      ],
      "metadata": {
        "id": "ESQ3mhRi8r-r"
      }
    },
    {
      "cell_type": "code",
      "source": [
        "files_weights = glob.glob('/tmp/weight_*.h5')\n",
        "files_weights.sort()\n",
        "accuracy_weights = []\n",
        "\n",
        "for f in files_weights:\n",
        "  restored_model = tf.keras.models.load_model(f,compile=False)\n",
        "  restored_model.compile(\n",
        "    loss=tf.keras.losses.binary_crossentropy,\n",
        "    optimizer='adam',\n",
        "    metrics=['accuracy'])\n",
        "  score = restored_model.evaluate(x_test, y_test, verbose=1)\n",
        "  params=0\n",
        "  accuracy_weights.append(score[1])"
      ],
      "metadata": {
        "id": "jmvsK-MSXxs9",
        "colab": {
          "base_uri": "https://localhost:8080/"
        },
        "outputId": "3515788a-3bea-47df-e513-fac86d844276"
      },
      "execution_count": null,
      "outputs": [
        {
          "output_type": "stream",
          "name": "stdout",
          "text": [
            "782/782 [==============================] - 28s 35ms/step - loss: 0.5368 - accuracy: 0.7690\n",
            "782/782 [==============================] - 27s 34ms/step - loss: 0.7397 - accuracy: 0.7308\n",
            "782/782 [==============================] - 27s 33ms/step - loss: 0.7732 - accuracy: 0.7430\n",
            "782/782 [==============================] - 27s 33ms/step - loss: 0.7919 - accuracy: 0.7454\n",
            "782/782 [==============================] - 27s 33ms/step - loss: 0.7871 - accuracy: 0.7117\n",
            "782/782 [==============================] - 27s 33ms/step - loss: 0.9627 - accuracy: 0.5556\n",
            "782/782 [==============================] - 27s 33ms/step - loss: 0.7911 - accuracy: 0.5435\n",
            "782/782 [==============================] - 27s 34ms/step - loss: 0.7823 - accuracy: 0.5090\n",
            "782/782 [==============================] - 27s 34ms/step - loss: 0.7404 - accuracy: 0.5081\n",
            "782/782 [==============================] - 27s 34ms/step - loss: 0.7520 - accuracy: 0.5054\n",
            "782/782 [==============================] - 28s 35ms/step - loss: 0.7402 - accuracy: 0.5000\n",
            "782/782 [==============================] - 28s 35ms/step - loss: 0.7391 - accuracy: 0.5000\n"
          ]
        }
      ]
    },
    {
      "cell_type": "code",
      "source": [
        "accuracy_weights"
      ],
      "metadata": {
        "id": "BSmuW1m-pcDm"
      },
      "execution_count": null,
      "outputs": []
    },
    {
      "cell_type": "code",
      "source": [
        "import matplotlib.pyplot as plt\n",
        "import matplotlib.patches as mpatches\n",
        "plt.rcParams['figure.constrained_layout.use'] = True\n",
        "plt.xlabel('% sparsity')\n",
        "plt.ylabel('% accuracy')\n",
        "#red_patch = mpatches.Patch(color='red', label='Neuron Pruning')\n",
        "blue_patch = mpatches.Patch(color='blue',label='Weight Pruning')\n",
        "plt.legend(handles=[blue_patch],loc='upper right')\n",
        "#plt.plot([.25, .50, .60, .70, .80, .90, .95, .97, .99],accuracy_neurons,color='red')\n",
        "plt.plot([20,30,40,50,70,80,84,88,92,94,98,99],accuracy_weights,color='blue')\n",
        "plt.show()"
      ],
      "metadata": {
        "colab": {
          "base_uri": "https://localhost:8080/",
          "height": 313
        },
        "id": "tTjWn1IU9FEP",
        "outputId": "f15eaa2f-f2ec-468e-f7e2-c092520c9443"
      },
      "execution_count": null,
      "outputs": [
        {
          "output_type": "display_data",
          "data": {
            "text/plain": [
              "<Figure size 432x288 with 1 Axes>"
            ],
            "image/png": "[encoded data removed]"
          },
          "metadata": {
            "needs_background": "light"
          }
        }
      ]
    },
    {
      "cell_type": "markdown",
      "source": [
        "**Memory Analysis after weight pruning**"
      ],
      "metadata": {
        "id": "MN_o8FDzgZPU"
      }
    },
    {
      "cell_type": "code",
      "source": [
        "#for upruned model\n",
        "memory=[]\n",
        "_, zip1 = tempfile.mkstemp('.zip') \n",
        "with zipfile.ZipFile(zip1, 'w', compression=zipfile.ZIP_DEFLATED) as f:\n",
        "  f.write(model_file)\n",
        "print(\"Size of the unpruned model before compression: %.2f Mb\" % \n",
        "      (os.path.getsize(model_file) / float(2**20)))\n",
        "print(\"Size of the unpruned model after compression: %.2f Mb\" % \n",
        "      (os.path.getsize(zip1) / float(2**20)))\n",
        "memory=[]\n",
        "memory.append((os.path.getsize(zip1) / float(2**20)))\n",
        "\n",
        "pruned_keras_files = files_weights\n",
        "for pruned_keras_file in pruned_keras_files:\n",
        "  _, zip2 = tempfile.mkstemp('.zip') \n",
        "  with zipfile.ZipFile(zip2, 'w', compression=zipfile.ZIP_DEFLATED) as f:\n",
        "    f.write(pruned_keras_file)\n",
        "  memory.append((os.path.getsize(zip2) / float(2**20)))\n",
        "  print(\"Size of the pruned model before compression: %.2f Mb\" % \n",
        "    (os.path.getsize(pruned_keras_file) / float(2**20)))\n",
        "  print(\"Size of the pruned model after compression: %.2f Mb\" % \n",
        "    (os.path.getsize(zip2) / float(2**20)))\n"
      ],
      "metadata": {
        "colab": {
          "base_uri": "https://localhost:8080/"
        },
        "id": "Q6MEfD5n5_RO",
        "outputId": "fb7bac30-aeaa-4ac9-9739-0492b4b3c0b4"
      },
      "execution_count": null,
      "outputs": [
        {
          "output_type": "stream",
          "name": "stdout",
          "text": [
            "Size of the unpruned model before compression: 10.29 Mb\n",
            "Size of the unpruned model after compression: 9.50 Mb\n",
            "Size of the pruned model before compression: 10.29 Mb\n",
            "Size of the pruned model after compression: 8.22 Mb\n",
            "Size of the pruned model before compression: 10.29 Mb\n",
            "Size of the pruned model after compression: 7.42 Mb\n",
            "Size of the pruned model before compression: 10.29 Mb\n",
            "Size of the pruned model after compression: 6.59 Mb\n",
            "Size of the pruned model before compression: 10.29 Mb\n",
            "Size of the pruned model after compression: 5.63 Mb\n",
            "Size of the pruned model before compression: 10.29 Mb\n",
            "Size of the pruned model after compression: 3.62 Mb\n",
            "Size of the pruned model before compression: 10.29 Mb\n",
            "Size of the pruned model after compression: 2.59 Mb\n",
            "Size of the pruned model before compression: 10.29 Mb\n",
            "Size of the pruned model after compression: 2.15 Mb\n",
            "Size of the pruned model before compression: 10.29 Mb\n",
            "Size of the pruned model after compression: 1.71 Mb\n",
            "Size of the pruned model before compression: 10.29 Mb\n",
            "Size of the pruned model after compression: 1.25 Mb\n",
            "Size of the pruned model before compression: 10.29 Mb\n",
            "Size of the pruned model after compression: 1.02 Mb\n",
            "Size of the pruned model before compression: 10.29 Mb\n",
            "Size of the pruned model after compression: 0.53 Mb\n",
            "Size of the pruned model before compression: 10.29 Mb\n",
            "Size of the pruned model after compression: 0.39 Mb\n"
          ]
        }
      ]
    },
    {
      "cell_type": "code",
      "source": [
        "print(memory)"
      ],
      "metadata": {
        "colab": {
          "base_uri": "https://localhost:8080/"
        },
        "id": "XzVal4sh7aXz",
        "outputId": "85e14474-2dfa-413a-c70c-2a60c32a1016"
      },
      "execution_count": null,
      "outputs": [
        {
          "output_type": "stream",
          "name": "stdout",
          "text": [
            "[9.504719734191895, 3.133432388305664, 2.7376060485839844, 2.3288793563842773, 1.9019231796264648, 1.6760530471801758, 1.1866645812988281, 1.0518989562988281]\n"
          ]
        }
      ]
    },
    {
      "cell_type": "code",
      "source": [
        "plt.rcParams['figure.constrained_layout.use'] = True\n",
        "plt.xlabel('% sparsity')\n",
        "plt.ylabel('memory size in MB')\n",
        "\n",
        "blue_patch = mpatches.Patch(color='blue',label='Weight Pruning')\n",
        "plt.legend(handles=[blue_patch],loc='upper right')\n",
        "#plt.plot([.25, .50, .60, .70, .80, .90, .95, .97, .99],accuracy_neurons,color='red')\n",
        "plt.plot([0,20,30,40,50,70,80,84,88, 92,94,98,99],memory,color='blue')\n",
        "plt.show()"
      ],
      "metadata": {
        "colab": {
          "base_uri": "https://localhost:8080/",
          "height": 313
        },
        "id": "FcDUk-Fi8Yqr",
        "outputId": "51fec086-d101-4915-f057-82a9502d179b"
      },
      "execution_count": null,
      "outputs": [
        {
          "output_type": "display_data",
          "data": {
            "text/plain": [
              "<Figure size 432x288 with 1 Axes>"
            ],
            "image/png": "[encoded data removed]"
          },
          "metadata": {
            "needs_background": "light"
          }
        }
      ]
    },
    {
      "cell_type": "markdown",
      "source": [
        "# **Neuron** **Pruning**"
      ],
      "metadata": {
        "id": "92eawgdmflOn"
      }
    },
    {
      "cell_type": "code",
      "source": [
        "lay2=[]\n",
        "def print_attrs(name, obj):\n",
        "    # Create indent\n",
        "    shift = name.count('/') * '    '\n",
        "    item_name = name.split(\"/\")[-1]\n",
        "    print(shift + item_name)\n",
        "    try:\n",
        "        for key, val in obj.attrs.items():\n",
        "            if(key=='weight_names'):\n",
        "              lay2.append(val[0])\n",
        "              print(shift + '    ' + f\"{key}: {val}\")\n",
        "    except:\n",
        "        pass\n",
        "\n",
        "\n",
        "for k in [0.1,0.2,0.3,0.4,0.5,0.6,0.7,.80]:\n",
        "    copyfile(model_file,\"/tmp/orig.h5\")\n",
        "    f = h5py.File(\"/tmp/orig.h5\",'r+')\n",
        "    f.visititems(print_attrs)\n",
        "    m=0\n",
        "    for i in list(f.get('model_weights'))[:-1]:\n",
        "      if(i==\"activation\" ):\n",
        "        continue\n",
        "      elif(i==\"dense\"):\n",
        "        m=m+1\n",
        "        continue\n",
        "      else:\n",
        "        data=f['model_weights'][i][lay2[m]]\n",
        "        w=np.array(data)\n",
        "  \n",
        "        ind = np.argsort(LA.norm(w, axis=0))\n",
        "        index_len=int(len(ind)*k)\n",
        "        for i in range(index_len):\n",
        "          w[:,ind[i]]=0\n",
        "        data[...]=w\n",
        "        m=m+1\n",
        "      \n",
        "    f.close()\n",
        "    move(\"/tmp/orig.h5\",\"/tmp/neuron_\"+str(k)+\".h5\")\n"
      ],
      "metadata": {
        "colab": {
          "base_uri": "https://localhost:8080/"
        },
        "id": "WNJdHVZBbY99",
        "outputId": "baaa0edd-cf05-4856-b9a6-8a80119b8598"
      },
      "execution_count": null,
      "outputs": [
        {
          "output_type": "stream",
          "name": "stdout",
          "text": [
            "model_weights\n",
            "    activation\n",
            "    dense\n",
            "        weight_names: ['dense/kernel:0' 'dense/bias:0']\n",
            "        dense\n",
            "            bias:0\n",
            "            kernel:0\n",
            "    embedding\n",
            "        weight_names: ['embedding/embeddings:0']\n",
            "        embedding\n",
            "            embeddings:0\n",
            "    lstm\n",
            "        weight_names: ['lstm/lstm_cell/kernel:0' 'lstm/lstm_cell/recurrent_kernel:0'\n",
            " 'lstm/lstm_cell/bias:0']\n",
            "        lstm\n",
            "            lstm_cell\n",
            "                bias:0\n",
            "                kernel:0\n",
            "                recurrent_kernel:0\n",
            "    top_level_model_weights\n",
            "model_weights\n",
            "    activation\n",
            "    dense\n",
            "        weight_names: ['dense/kernel:0' 'dense/bias:0']\n",
            "        dense\n",
            "            bias:0\n",
            "            kernel:0\n",
            "    embedding\n",
            "        weight_names: ['embedding/embeddings:0']\n",
            "        embedding\n",
            "            embeddings:0\n",
            "    lstm\n",
            "        weight_names: ['lstm/lstm_cell/kernel:0' 'lstm/lstm_cell/recurrent_kernel:0'\n",
            " 'lstm/lstm_cell/bias:0']\n",
            "        lstm\n",
            "            lstm_cell\n",
            "                bias:0\n",
            "                kernel:0\n",
            "                recurrent_kernel:0\n",
            "    top_level_model_weights\n",
            "model_weights\n",
            "    activation\n",
            "    dense\n",
            "        weight_names: ['dense/kernel:0' 'dense/bias:0']\n",
            "        dense\n",
            "            bias:0\n",
            "            kernel:0\n",
            "    embedding\n",
            "        weight_names: ['embedding/embeddings:0']\n",
            "        embedding\n",
            "            embeddings:0\n",
            "    lstm\n",
            "        weight_names: ['lstm/lstm_cell/kernel:0' 'lstm/lstm_cell/recurrent_kernel:0'\n",
            " 'lstm/lstm_cell/bias:0']\n",
            "        lstm\n",
            "            lstm_cell\n",
            "                bias:0\n",
            "                kernel:0\n",
            "                recurrent_kernel:0\n",
            "    top_level_model_weights\n",
            "model_weights\n",
            "    activation\n",
            "    dense\n",
            "        weight_names: ['dense/kernel:0' 'dense/bias:0']\n",
            "        dense\n",
            "            bias:0\n",
            "            kernel:0\n",
            "    embedding\n",
            "        weight_names: ['embedding/embeddings:0']\n",
            "        embedding\n",
            "            embeddings:0\n",
            "    lstm\n",
            "        weight_names: ['lstm/lstm_cell/kernel:0' 'lstm/lstm_cell/recurrent_kernel:0'\n",
            " 'lstm/lstm_cell/bias:0']\n",
            "        lstm\n",
            "            lstm_cell\n",
            "                bias:0\n",
            "                kernel:0\n",
            "                recurrent_kernel:0\n",
            "    top_level_model_weights\n",
            "model_weights\n",
            "    activation\n",
            "    dense\n",
            "        weight_names: ['dense/kernel:0' 'dense/bias:0']\n",
            "        dense\n",
            "            bias:0\n",
            "            kernel:0\n",
            "    embedding\n",
            "        weight_names: ['embedding/embeddings:0']\n",
            "        embedding\n",
            "            embeddings:0\n",
            "    lstm\n",
            "        weight_names: ['lstm/lstm_cell/kernel:0' 'lstm/lstm_cell/recurrent_kernel:0'\n",
            " 'lstm/lstm_cell/bias:0']\n",
            "        lstm\n",
            "            lstm_cell\n",
            "                bias:0\n",
            "                kernel:0\n",
            "                recurrent_kernel:0\n",
            "    top_level_model_weights\n",
            "model_weights\n",
            "    activation\n",
            "    dense\n",
            "        weight_names: ['dense/kernel:0' 'dense/bias:0']\n",
            "        dense\n",
            "            bias:0\n",
            "            kernel:0\n",
            "    embedding\n",
            "        weight_names: ['embedding/embeddings:0']\n",
            "        embedding\n",
            "            embeddings:0\n",
            "    lstm\n",
            "        weight_names: ['lstm/lstm_cell/kernel:0' 'lstm/lstm_cell/recurrent_kernel:0'\n",
            " 'lstm/lstm_cell/bias:0']\n",
            "        lstm\n",
            "            lstm_cell\n",
            "                bias:0\n",
            "                kernel:0\n",
            "                recurrent_kernel:0\n",
            "    top_level_model_weights\n",
            "model_weights\n",
            "    activation\n",
            "    dense\n",
            "        weight_names: ['dense/kernel:0' 'dense/bias:0']\n",
            "        dense\n",
            "            bias:0\n",
            "            kernel:0\n",
            "    embedding\n",
            "        weight_names: ['embedding/embeddings:0']\n",
            "        embedding\n",
            "            embeddings:0\n",
            "    lstm\n",
            "        weight_names: ['lstm/lstm_cell/kernel:0' 'lstm/lstm_cell/recurrent_kernel:0'\n",
            " 'lstm/lstm_cell/bias:0']\n",
            "        lstm\n",
            "            lstm_cell\n",
            "                bias:0\n",
            "                kernel:0\n",
            "                recurrent_kernel:0\n",
            "    top_level_model_weights\n",
            "model_weights\n",
            "    activation\n",
            "    dense\n",
            "        weight_names: ['dense/kernel:0' 'dense/bias:0']\n",
            "        dense\n",
            "            bias:0\n",
            "            kernel:0\n",
            "    embedding\n",
            "        weight_names: ['embedding/embeddings:0']\n",
            "        embedding\n",
            "            embeddings:0\n",
            "    lstm\n",
            "        weight_names: ['lstm/lstm_cell/kernel:0' 'lstm/lstm_cell/recurrent_kernel:0'\n",
            " 'lstm/lstm_cell/bias:0']\n",
            "        lstm\n",
            "            lstm_cell\n",
            "                bias:0\n",
            "                kernel:0\n",
            "                recurrent_kernel:0\n",
            "    top_level_model_weights\n"
          ]
        }
      ]
    },
    {
      "cell_type": "code",
      "source": [
        "files_neurons = glob.glob('/tmp/neuron_*.h5')\n",
        "files_neurons.sort()\n",
        "accuracy_neurons = []\n",
        "\n",
        "for f in files_neurons:\n",
        "  restored_model_2 = tf.keras.models.load_model(f,compile=False)\n",
        "  restored_model_2.compile(\n",
        "    loss=tf.keras.losses.binary_crossentropy,\n",
        "    optimizer='adam',\n",
        "    metrics=['accuracy'])\n",
        "  score = restored_model_2.evaluate(x_test, y_test, verbose=1)\n",
        "  accuracy_neurons.append(score[1])\n"
      ],
      "metadata": {
        "colab": {
          "base_uri": "https://localhost:8080/"
        },
        "id": "K_FNmRNKd0Q5",
        "outputId": "119fde1d-232c-4368-ad48-1eeaf232434c"
      },
      "execution_count": null,
      "outputs": [
        {
          "output_type": "stream",
          "name": "stdout",
          "text": [
            "782/782 [==============================] - 30s 37ms/step - loss: 0.4097 - accuracy: 0.8218\n",
            "782/782 [==============================] - 29s 36ms/step - loss: 0.4457 - accuracy: 0.7810\n",
            "782/782 [==============================] - 29s 36ms/step - loss: 0.6963 - accuracy: 0.5853\n",
            "782/782 [==============================] - 29s 36ms/step - loss: 0.7772 - accuracy: 0.5215\n",
            "782/782 [==============================] - 29s 36ms/step - loss: 0.7572 - accuracy: 0.5174\n",
            "782/782 [==============================] - 29s 36ms/step - loss: 0.7314 - accuracy: 0.5264\n",
            "782/782 [==============================] - 29s 36ms/step - loss: 0.7333 - accuracy: 0.5203\n",
            "782/782 [==============================] - 29s 36ms/step - loss: 0.7223 - accuracy: 0.5074\n"
          ]
        }
      ]
    },
    {
      "cell_type": "code",
      "source": [
        "import matplotlib.pyplot as plt\n",
        "import matplotlib.patches as mpatches\n",
        "plt.rcParams['figure.constrained_layout.use'] = True\n",
        "plt.xlabel('% sparsity')\n",
        "plt.ylabel('% accuracy')\n",
        "red_patch = mpatches.Patch(color='red', label='Neuron Pruning')\n",
        "plt.legend(handles=[red_patch],loc='upper right')\n",
        "#plt.plot([.25, .50, .60, .70, .80, .90, .95, .97, .99],accuracy_neurons,color='red')\n",
        "plt.plot([10,20,30,40,50,60,70,80],accuracy_neurons,color='red')\n",
        "plt.show()"
      ],
      "metadata": {
        "colab": {
          "base_uri": "https://localhost:8080/",
          "height": 313
        },
        "id": "2fkFrzD4q-wO",
        "outputId": "0a9f2002-0aee-4fbb-85f0-b73c80f2e5e3"
      },
      "execution_count": null,
      "outputs": [
        {
          "output_type": "display_data",
          "data": {
            "text/plain": [
              "<Figure size 432x288 with 1 Axes>"
            ],
            "image/png": "[encoded data removed]"
          },
          "metadata": {
            "needs_background": "light"
          }
        }
      ]
    },
    {
      "cell_type": "code",
      "source": [
        "#for upruned model\n",
        "memory1=[]\n",
        "_, zip1 = tempfile.mkstemp('.zip') \n",
        "with zipfile.ZipFile(zip1, 'w', compression=zipfile.ZIP_DEFLATED) as f:\n",
        "  f.write(model_file)\n",
        "print(\"Size of the unpruned model before compression: %.2f Mb\" % \n",
        "      (os.path.getsize(model_file) / float(2**20)))\n",
        "print(\"Size of the unpruned model after compression: %.2f Mb\" % \n",
        "      (os.path.getsize(zip1) / float(2**20)))\n",
        "\n",
        "memory1.append((os.path.getsize(zip1) / float(2**20)))\n",
        "\n",
        "pruned_files = files_neurons\n",
        "for pruned_keras_file in pruned_files:\n",
        "  _, zip2 = tempfile.mkstemp('.zip') \n",
        "  with zipfile.ZipFile(zip2, 'w', compression=zipfile.ZIP_DEFLATED) as f:\n",
        "    f.write(pruned_keras_file)\n",
        "  memory.append((os.path.getsize(zip2) / float(2**20)))\n",
        "  print(\"Size of the pruned model before compression: %.2f Mb\" % \n",
        "    (os.path.getsize(pruned_keras_file) / float(2**20)))\n",
        "  print(\"Size of the pruned model after compression: %.2f Mb\" % \n",
        "    (os.path.getsize(zip2) / float(2**20)))\n"
      ],
      "metadata": {
        "colab": {
          "base_uri": "https://localhost:8080/"
        },
        "id": "1fOOA7lFg1a4",
        "outputId": "aaa06d06-f278-4003-9ee6-6f98f5eba158"
      },
      "execution_count": null,
      "outputs": [
        {
          "output_type": "stream",
          "name": "stdout",
          "text": [
            "Size of the unpruned model before compression: 10.29 Mb\n",
            "Size of the unpruned model after compression: 9.50 Mb\n",
            "Size of the pruned model before compression: 10.29 Mb\n",
            "Size of the pruned model after compression: 8.99 Mb\n",
            "Size of the pruned model before compression: 10.29 Mb\n",
            "Size of the pruned model after compression: 8.29 Mb\n",
            "Size of the pruned model before compression: 10.29 Mb\n",
            "Size of the pruned model after compression: 7.52 Mb\n",
            "Size of the pruned model before compression: 10.29 Mb\n",
            "Size of the pruned model after compression: 6.68 Mb\n",
            "Size of the pruned model before compression: 10.29 Mb\n",
            "Size of the pruned model after compression: 5.79 Mb\n",
            "Size of the pruned model before compression: 10.29 Mb\n",
            "Size of the pruned model after compression: 4.89 Mb\n",
            "Size of the pruned model before compression: 10.29 Mb\n",
            "Size of the pruned model after compression: 3.91 Mb\n",
            "Size of the pruned model before compression: 10.29 Mb\n",
            "Size of the pruned model after compression: 2.83 Mb\n"
          ]
        }
      ]
    },
    {
      "cell_type": "code",
      "source": [
        "plt.rcParams['figure.constrained_layout.use'] = True\n",
        "plt.xlabel('% sparsity')\n",
        "plt.ylabel('memory size in MB')\n",
        "\n",
        "blue_patch = mpatches.Patch(color='blue',label='Weight Pruning')\n",
        "plt.legend(handles=[blue_patch],loc='upper right')\n",
        "plt.plot([0,10,20,30,40,50,60,70,80],memory,color='blue')\n",
        "plt.show()"
      ],
      "metadata": {
        "colab": {
          "base_uri": "https://localhost:8080/",
          "height": 313
        },
        "id": "Yh4HTOgWg6s0",
        "outputId": "f1e8e61f-ea0a-4171-a7f9-a6e0706b61c3"
      },
      "execution_count": null,
      "outputs": [
        {
          "output_type": "display_data",
          "data": {
            "text/plain": [
              "<Figure size 432x288 with 1 Axes>"
            ],
            "image/png": "[encoded data removed]"
          },
          "metadata": {
            "needs_background": "light"
          }
        }
      ]
    }
  ]
}